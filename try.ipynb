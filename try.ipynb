{
 "cells": [
  {
   "cell_type": "code",
   "execution_count": 1,
   "metadata": {},
   "outputs": [
    {
     "name": "stdout",
     "output_type": "stream",
     "text": [
      "t = 0, y(t) = 10\n",
      "t = 0.5, y(t) = -40.0\n",
      "t = 1.0, y(t) = 160.25\n",
      "t = 1.5, y(t) = -640.5\n",
      "t = 2.0, y(t) = 2562.75\n",
      "t = 2.5, y(t) = -10250.0\n",
      "t = 3.0, y(t) = 41001.25\n",
      "t = 3.5, y(t) = -164003.5\n",
      "t = 4.0, y(t) = 656015.75\n",
      "t = 4.5, y(t) = -2624061.0\n",
      "t = 5.0, y(t) = 10496246.25\n",
      "Approximate value of y(tn) by Euler's Method is  10496246.25\n"
     ]
    }
   ],
   "source": [
    "# Euler's Method\n",
    "def Euler(t0, y0, tn, h):\n",
    "    t = t0\n",
    "    y = y0\n",
    "    slope = f(t, y)\n",
    "    print(f\"t = {round(t, 3)}, y(t) = {round(y, 4)}\")\n",
    "    \n",
    "    while t < tn:\n",
    "        y = y + h * slope\n",
    "        t = t + h\n",
    "        slope = f(t, y)\n",
    "        print(f\"t = {round(t, 3)}, y(t) = {round(y, 4)}\")\n",
    "    \n",
    "    return y\n",
    "\n",
    "def f(t, x):\n",
    "    return t - (10 * x)\n",
    "\n",
    "t0 = 0\n",
    "tn = 5\n",
    "y0 = 10\n",
    "h = 0.5\n",
    "\n",
    "result = Euler(t0, y0, tn, h)\n",
    "print(f\"Approximate value of y(tn) by Euler's Method is \", round(result, 4))"
   ]
  }
 ],
 "metadata": {
  "kernelspec": {
   "display_name": "Python 3",
   "language": "python",
   "name": "python3"
  },
  "language_info": {
   "codemirror_mode": {
    "name": "ipython",
    "version": 3
   },
   "file_extension": ".py",
   "mimetype": "text/x-python",
   "name": "python",
   "nbconvert_exporter": "python",
   "pygments_lexer": "ipython3",
   "version": "3.12.4"
  }
 },
 "nbformat": 4,
 "nbformat_minor": 2
}
